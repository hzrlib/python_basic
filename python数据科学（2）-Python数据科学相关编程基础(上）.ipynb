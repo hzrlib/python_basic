{
 "cells": [
  {
   "cell_type": "markdown",
   "metadata": {},
   "source": [
    "#   Python数据类型"
   ]
  },
  {
   "cell_type": "markdown",
   "metadata": {},
   "source": [
    "## 字符串"
   ]
  },
  {
   "cell_type": "code",
   "execution_count": 12,
   "metadata": {},
   "outputs": [
    {
     "name": "stdout",
     "output_type": "stream",
     "text": [
      "hello world!\n",
      "It is a \"dog\"!\n",
      "It's a dog!\n",
      "hello world !\n"
     ]
    }
   ],
   "source": [
    "# 在Python中用引号引起来的字符集称之为字符串，比如：'hello'、\"my Python\"、\"2+3\"等都是字符串\n",
    "# Python中字符串中使用的引号可以是单引号、双引号跟三引号\n",
    "\n",
    "print ('hello world!')\n",
    "c = 'It is a \"dog\"!'\n",
    "print (c)\n",
    "c1= \"It's a dog!\"\n",
    "print (c1)\n",
    "c2 = \"\"\"hello world !\"\"\"\n",
    "print (c2)"
   ]
  },
  {
   "cell_type": "code",
   "execution_count": null,
   "metadata": {},
   "outputs": [],
   "source": [
    "# Python 转义字符\n",
    "# 在需要在字符中使用特殊字符时，python 用反斜杠 \\ 转义字符。如下表：\n",
    "# 转义字符\t描述\n",
    "# \\(在行尾时)\t续行符\n",
    "# \\\\\t反斜杠符号\n",
    "# \\'\t单引号\n",
    "# \\\"\t双引号\n",
    "# \\a\t响铃\n",
    "# \\b\t退格(Backspace)\n",
    "# \\e\t转义\n",
    "# \\000\t空\n",
    "# \\n\t换行\n",
    "# \\v\t纵向制表符\n",
    "# \\t\t横向制表符\n",
    "# \\r\t回车\n",
    "# \\f\t换页\n",
    "# \\oyy\t八进制数，yy代表的字符，例如：\\o12代表换行\n",
    "# \\xyy\t十六进制数，yy代表的字符，例如：\\x0a代表换行\n",
    "# \\other\t其它的字符以普通格式输出"
   ]
  },
  {
   "cell_type": "code",
   "execution_count": 13,
   "metadata": {},
   "outputs": [
    {
     "name": "stdout",
     "output_type": "stream",
     "text": [
      "a + b 输出结果： HelloPython\n",
      "a * 2 输出结果： HelloHello\n",
      "a[1] 输出结果： e\n",
      "a[1:4] 输出结果： ell\n",
      "H 在变量 a 中\n",
      "M 不在变量 a 中\n",
      "\\n\n",
      "\\n\n",
      "The first word is Hello, and the second word is Python\n"
     ]
    }
   ],
   "source": [
    "# -*- coding: UTF-8 -*-\n",
    "a = \"Hello\"\n",
    "b = \"Python\"\n",
    " #+  字符串连接 \n",
    "print (\"a + b 输出结果：\", a + b )\n",
    "# *  重复输出字符串\n",
    "print( \"a * 2 输出结果：\", a * 2 )\n",
    "#取子字符串有两种方法，使用[]索引或者切片运算法[:]，这两个方法使用面非常广\n",
    "# []  通过索引获取字符串中字符\n",
    "print(\"a[1] 输出结果：\", a[1] )\n",
    "# [ : ] 截取字符串中的一部分 \n",
    "print( \"a[1:4] 输出结果：\", a[1:4] )\n",
    "# in\t成员运算符 - 如果字符串中包含给定的字符返回 True\n",
    "if( \"H\" in a) :\n",
    "    print( \"H 在变量 a 中\" )\n",
    "else :\n",
    "    print( \"H 不在变量 a 中\" )\n",
    "# 成员运算符 - 如果字符串中不包含给定的字符返回 True\n",
    "if( \"M\" not in a) :\n",
    "    print(\"M 不在变量 a 中\" )\n",
    "else :\n",
    "    print (\"M 在变量 a 中\")\n",
    "# 原始字符串 - 原始字符串：所有的字符串都是直接按照字面的意思来使用，没有转义特殊或不能打印的字符。\n",
    "#原始字符串除在字符串的第一个引号前加上字母\"r\"（可以大小写）以外，与普通字符串有着几乎完全相同的语法。\n",
    "print (r'\\n')\n",
    "print (R'\\n')\n",
    "# - 字符串格式化输出 %\t格式字符串\n",
    "print( 'The first word is %s, and the second word is %s' %(a, b))\n"
   ]
  },
  {
   "cell_type": "markdown",
   "metadata": {},
   "source": [
    "## 整数与浮点数"
   ]
  },
  {
   "cell_type": "code",
   "execution_count": 14,
   "metadata": {},
   "outputs": [
    {
     "name": "stdout",
     "output_type": "stream",
     "text": [
      "7\n"
     ]
    },
    {
     "data": {
      "text/plain": [
       "314.0"
      ]
     },
     "execution_count": 14,
     "metadata": {},
     "output_type": "execute_result"
    }
   ],
   "source": [
    "# Python可以处理任意大小的整数，当然包括负整数，在程序中的表示方法和数学上的写法一模一样\n",
    "i = 7\n",
    "print(i)\n",
    "7 + 3\n",
    "7 - 3\n",
    "7 * 3\n",
    "7 ** 3\n",
    "7 / 3#Python3之后，整数除法和浮点数除法已经没有差异\n",
    "7 % 3\n",
    "7.0 / 3\n",
    "3.14 * 10 ** 2"
   ]
  },
  {
   "cell_type": "markdown",
   "metadata": {},
   "source": [
    "## 布尔值"
   ]
  },
  {
   "cell_type": "code",
   "execution_count": 15,
   "metadata": {},
   "outputs": [
    {
     "data": {
      "text/plain": [
       "False"
      ]
     },
     "execution_count": 15,
     "metadata": {},
     "output_type": "execute_result"
    }
   ],
   "source": [
    "True and False\n",
    "# In[ ]:\n",
    "True or False\n",
    "# In[ ]:\n",
    "not True\n",
    "# In[ ]:\n",
    "True + False\n",
    "# In[ ]:\n",
    "18 >= 6 * 3 and 'py' in 'Python'\n"
   ]
  },
  {
   "cell_type": "markdown",
   "metadata": {},
   "source": [
    "## 其它"
   ]
  },
  {
   "cell_type": "code",
   "execution_count": 22,
   "metadata": {},
   "outputs": [
    {
     "ename": "TypeError",
     "evalue": "'str' object is not callable",
     "output_type": "error",
     "traceback": [
      "\u001b[1;31m---------------------------------------------------------------------------\u001b[0m",
      "\u001b[1;31mTypeError\u001b[0m                                 Traceback (most recent call last)",
      "\u001b[1;32m<ipython-input-22-ea7a5d3fef4c>\u001b[0m in \u001b[0;36m<module>\u001b[1;34m()\u001b[0m\n\u001b[0;32m      4\u001b[0m \u001b[0mtype\u001b[0m\u001b[1;33m(\u001b[0m\u001b[0ms\u001b[0m\u001b[1;33m)\u001b[0m\u001b[1;33m\u001b[0m\u001b[0m\n\u001b[0;32m      5\u001b[0m \u001b[1;31m# 类型转换\u001b[0m\u001b[1;33m\u001b[0m\u001b[1;33m\u001b[0m\u001b[0m\n\u001b[1;32m----> 6\u001b[1;33m \u001b[0mstr\u001b[0m\u001b[1;33m(\u001b[0m\u001b[1;36m10086\u001b[0m\u001b[1;33m)\u001b[0m\u001b[1;33m\u001b[0m\u001b[0m\n\u001b[0m\u001b[0;32m      7\u001b[0m \u001b[1;31m# In[ ]:\u001b[0m\u001b[1;33m\u001b[0m\u001b[1;33m\u001b[0m\u001b[0m\n\u001b[0;32m      8\u001b[0m \u001b[0mfloat\u001b[0m\u001b[1;33m(\u001b[0m\u001b[1;36m10086\u001b[0m\u001b[1;33m)\u001b[0m\u001b[1;33m\u001b[0m\u001b[0m\n",
      "\u001b[1;31mTypeError\u001b[0m: 'str' object is not callable"
     ]
    }
   ],
   "source": [
    "#查看变量 与类型转换\n",
    "type(None)\n",
    "# In[ ]:\n",
    "type(s)\n",
    "# 类型转换w\n",
    "str(10086)\n",
    "# In[ ]:\n",
    "float(10086)"
   ]
  },
  {
   "cell_type": "code",
   "execution_count": 17,
   "metadata": {},
   "outputs": [
    {
     "name": "stdout",
     "output_type": "stream",
     "text": [
      "time.struct_time(tm_year=2016, tm_mon=7, tm_mday=20, tm_hour=0, tm_min=0, tm_sec=0, tm_wday=2, tm_yday=202, tm_isdst=-1)\n"
     ]
    },
    {
     "data": {
      "text/plain": [
       "5"
      ]
     },
     "execution_count": 17,
     "metadata": {},
     "output_type": "execute_result"
    }
   ],
   "source": [
    "import time\n",
    "\n",
    "now = time.strptime('2016-07-20', '%Y-%m-%d')\n",
    "print (now)\n",
    "type(now)\n",
    "import datetime\n",
    "someDay = datetime.date(1999,2,10)\n",
    "anotherDay = datetime.date(1999,2,15)\n",
    "deltaDay = anotherDay - someDay\n",
    "deltaDay.days"
   ]
  },
  {
   "cell_type": "code",
   "execution_count": 19,
   "metadata": {},
   "outputs": [
    {
     "name": "stdout",
     "output_type": "stream",
     "text": [
      "4\n",
      "4.0\n",
      "4\n",
      "False\n",
      "False\n",
      "你在你好北京吗? True\n"
     ]
    }
   ],
   "source": [
    "#1）算数运算符\n",
    "print(9//2)\n",
    "print(9.0//2.0)\n",
    "#2）赋值运算符\n",
    "a=3;c=1\n",
    "c+=a\n",
    "print(c)\n",
    "#3）比较运算符\n",
    "a=3;b=1\n",
    "print(a == b)\n",
    "#4）逻辑运算符\n",
    "a=True;b=False\n",
    "print(a and b)\n",
    "#5）成员运算符\n",
    "str=\"你好北京\";s=\"你\"\n",
    "print(\"%s在%s吗?\"%(s, str),s in str)"
   ]
  },
  {
   "cell_type": "markdown",
   "metadata": {},
   "source": [
    "# Python数据结构"
   ]
  },
  {
   "cell_type": "markdown",
   "metadata": {},
   "source": [
    " 列表（list）、元组（tuple）、集合（set）、字典（dict）"
   ]
  },
  {
   "cell_type": "markdown",
   "metadata": {},
   "source": [
    "## 列表(list)"
   ]
  },
  {
   "cell_type": "code",
   "execution_count": 22,
   "metadata": {},
   "outputs": [
    {
     "name": "stdout",
     "output_type": "stream",
     "text": [
      "['ming', 'hua', 'li', 'juan', 'yun', 3] ['ming', 'hua', 'li', 'juan', 'yun', 3]\n"
     ]
    }
   ],
   "source": [
    "\n",
    "students = [\"ming\", \"hua\", \"li\", \"juan\", \"yun\", 3]\n",
    "a = list([\"ming\", \"hua\", \"li\", \"juan\", \"yun\", 3])\n",
    "print (students,a)"
   ]
  },
  {
   "cell_type": "code",
   "execution_count": 23,
   "metadata": {},
   "outputs": [
    {
     "name": "stdout",
     "output_type": "stream",
     "text": [
      "['ming', 'hua', 'li', 'juan', 'yun', 3]\n",
      "6\n",
      "[4]= yun\n",
      "[-4]= li\n",
      "[0:4]= ['ming', 'hua', 'li', 'juan']\n",
      "[4:]= ['yun', 3]\n",
      "[::2]= ['ming', 'li', 'yun']\n",
      "[0:4:2]= ['ming', 'li']\n",
      "[-5:-1:]= ['hua', 'li', 'juan', 'yun']\n",
      "[-2::-1]= ['yun', 'juan', 'li', 'hua', 'ming']\n"
     ]
    }
   ],
   "source": [
    "# 1）列表索引和切片\n",
    "\n",
    "# 正序的时候索引从0开始，含左不含右；倒序的时候引从1开始\n",
    "print(students)#打印出students列表\n",
    "print(len(students))#利用len（）方法查询列表的长度\n",
    "print ('[4]=', students[4])# 根据索引 查询 列表中的数据，索引是从0 开始的\n",
    "print ('[-4]=', students[-4])#提取倒数第4个元素 \n",
    "print ('[0:4]=', students[0:4])# 切片 从索引0 到 3提取list的元素\n",
    "print( '[4:]=', students[4:])#切片  从索引4到最后的元素全部提取 \n",
    "print ('[::2]=', students[::2])#切片 步长为2 \n",
    "print ('[0:4:2]=', students[0:4:2])# 从索引0 到 3提取list的元素，切片 步长为2\n",
    "print ('[-5:-1:]=', students[-5:-1:])# 从倒数第5到倒数第1提取list的元素，切片 步长为1\n",
    "print ('[-2::-1]=', students[-2::-1])# 从倒数第5到倒数第1提取list的元素，切片 步长为1，倒叙"
   ]
  },
  {
   "cell_type": "code",
   "execution_count": 24,
   "metadata": {},
   "outputs": [
    {
     "name": "stdout",
     "output_type": "stream",
     "text": [
      "小月\n"
     ]
    }
   ],
   "source": [
    "#修改列表\n",
    "students[3] = \"小月\"\n",
    "print (students[3])"
   ]
  },
  {
   "cell_type": "code",
   "execution_count": 25,
   "metadata": {},
   "outputs": [
    {
     "name": "stdout",
     "output_type": "stream",
     "text": [
      "['ming', 'hua', 'li', '小月', 'yun', 3]\n",
      "['ming', 'hua', 'li', '小月', 'yun', 3, 'han']\n",
      "['ming', 'hua', 'li', '小月', 'yun', 3, 'han', 'long', 'wan']\n",
      "['ming', [90, 80, 75, 66], 'hua', 'li', '小月', 'yun', 3, 'han', 'long', 'wan']\n"
     ]
    }
   ],
   "source": [
    "# 3）插入元素\n",
    "\"\"\"\n",
    "append方法每次只能在末尾填入一个元素；\n",
    "extend方法用于在列表末尾一次性追加另一个序列中的多个值（用新列表扩展原来的列表）\n",
    "insert方法可在指定的位置插入一个元素；\n",
    "\"\"\"\n",
    "# In[ ]:\n",
    "print(students)\n",
    "students.append('han') # 添加到尾部\n",
    "print(students)\n",
    "students.extend(['long', 'wan'])\n",
    "print(students)\n",
    "# In[ ]:\n",
    "scores = [90, 80, 75, 66]\n",
    "students.insert(1, scores) # 添加到指定位置\n",
    "print(students)"
   ]
  },
  {
   "cell_type": "code",
   "execution_count": 12,
   "metadata": {},
   "outputs": [
    {
     "name": "stdout",
     "output_type": "stream",
     "text": [
      "[90, 80, 75, 66]\n",
      "['ming', 'hua', 'li', '小月', 'yun', 3, 'han', 'long', 'wan']\n",
      "['ming', 'hua', '小月', 'yun', 3, 'han', 'long', 'wan']\n",
      "[]\n"
     ]
    }
   ],
   "source": [
    "\n",
    "# In[ ]\n",
    "# 4）删除元素\n",
    "\"\"\"\n",
    "pop方法在不指定参数时默认删除末尾元素，也可以指定删除某个位置的元素；\n",
    "remove方法删除指定的元素值；\n",
    "clear方法清空列表元素；\n",
    "del函数删除列表对象；\n",
    "\"\"\"\n",
    "# In[ ]:\n",
    "\n",
    "print (students.pop(1)) # 该函数返回被弹出的元素，不传入参数则删除最后一个元素\n",
    "print (students)\n",
    "students.remove(\"li\")\n",
    "print(students)\n",
    "students.clear()\n",
    "print(students)\n"
   ]
  },
  {
   "cell_type": "markdown",
   "metadata": {},
   "source": [
    "## 元组(tuple)"
   ]
  },
  {
   "cell_type": "code",
   "execution_count": 2,
   "metadata": {},
   "outputs": [
    {
     "name": "stdout",
     "output_type": "stream",
     "text": [
      "TypeError\n"
     ]
    }
   ],
   "source": [
    "studentsTuple = (\"ming\", \"jun\", \"qiang\", \"wu\")\n",
    "studentsTuple\n",
    "try:\n",
    "    studentsTuple[1] = 'fu'\n",
    "except TypeError:\n",
    "    print ('TypeError')\n"
   ]
  },
  {
   "cell_type": "code",
   "execution_count": 5,
   "metadata": {},
   "outputs": [
    {
     "data": {
      "text/plain": [
       "True"
      ]
     },
     "execution_count": 5,
     "metadata": {},
     "output_type": "execute_result"
    }
   ],
   "source": [
    "'ming' in studentsTuple\n",
    "\n"
   ]
  },
  {
   "cell_type": "code",
   "execution_count": 7,
   "metadata": {},
   "outputs": [
    {
     "data": {
      "text/plain": [
       "('ming', 'jun', 'qiang', 'wu')"
      ]
     },
     "execution_count": 7,
     "metadata": {},
     "output_type": "execute_result"
    }
   ],
   "source": [
    "studentsTuple[0:4]\n"
   ]
  },
  {
   "cell_type": "code",
   "execution_count": 10,
   "metadata": {},
   "outputs": [
    {
     "data": {
      "text/plain": [
       "1"
      ]
     },
     "execution_count": 10,
     "metadata": {},
     "output_type": "execute_result"
    }
   ],
   "source": [
    "studentsTuple.index('jun')\n"
   ]
  },
  {
   "cell_type": "markdown",
   "metadata": {},
   "source": [
    "##  集合（set）"
   ]
  },
  {
   "cell_type": "code",
   "execution_count": 11,
   "metadata": {},
   "outputs": [
    {
     "name": "stdout",
     "output_type": "stream",
     "text": [
      "{'ming', 'juan', 'li', 'hua', 'yun'}\n",
      "{'ming', 'xu', 'juan', 'li', 'hua', 'yun'}\n",
      "{'ming', 'juan', 'li', 'hua', 'yun'}\n",
      "a= {'a', 'b', 'c'}\n",
      "b= {'d', 'f', 'm', 'c'}\n",
      "x= {'c'}\n",
      "y= {'a', 'b', 'c', 'f', 'm', 'd'}\n",
      "z= {'a', 'b'}\n"
     ]
    }
   ],
   "source": [
    "students = [\"ming\", \"hua\", \"li\", \"juan\", \"yun\", \"hua\"]\n",
    "studentsSet = set(students)\n",
    "print (studentsSet)\n",
    "studentsSet.add('xu')\n",
    "print (studentsSet)\n",
    "studentsSet.remove('xu')\n",
    "print (studentsSet)\n",
    "a = set(\"aabc\")\n",
    "print ('a=', a)\n",
    "b = set(\"cdfm\")\n",
    "print ('b=', b)\n",
    "#交集\n",
    "x = a & b \n",
    "print( 'x=', x)\n",
    "#并集\n",
    "y = a | b\n",
    "print ('y=', y)\n",
    "#差集\n",
    "z = a - b\n",
    "print( 'z=', z)"
   ]
  },
  {
   "cell_type": "markdown",
   "metadata": {},
   "source": [
    "##  字典(dict)"
   ]
  },
  {
   "cell_type": "code",
   "execution_count": 12,
   "metadata": {},
   "outputs": [
    {
     "name": "stdout",
     "output_type": "stream",
     "text": [
      "guilin\n",
      "dict_keys(['name', 'home'])\n",
      "dict_values(['weiwei', 'guilin'])\n"
     ]
    }
   ],
   "source": [
    "k = {\"name\":\"weiwei\", \"home\":\"guilin\"}\n",
    "print (k[\"home\"]) # 按照key 的值去找键的内容 \n",
    "# In[ ]:\n",
    "print( k.keys())\n",
    "print( k.values())"
   ]
  },
  {
   "cell_type": "code",
   "execution_count": 13,
   "metadata": {},
   "outputs": [
    {
     "name": "stdout",
     "output_type": "stream",
     "text": [
      "True\n"
     ]
    }
   ],
   "source": [
    "\n",
    "a={\"success\":True,\"reason_code\":\"200\",\"reason_desc\":\"获取成功\",\n",
    "   \"rules\":[{\"rule_id\":\"1062274\",\"score\":7,\"conditions\":[{\"address_a_value\":\n",
    "       \"南通市\",\"address_a\":\"mobile_address\",\"address_b\":\"true_ip_address\",\"address_b_value\":\"南京市\",\"type\":\"match_address\"}]}]}\n",
    "print(a[\"success\"])\n"
   ]
  },
  {
   "cell_type": "code",
   "execution_count": 14,
   "metadata": {},
   "outputs": [
    {
     "name": "stdout",
     "output_type": "stream",
     "text": [
      "{'name': 'guangzhou', 'home': 'guilin', 'like': 'music'}\n",
      "True\n",
      "guangzhou\n",
      "{'name': 'guangzhou', 'home': 'guilin'}\n"
     ]
    }
   ],
   "source": [
    "# 添加、修改字典里面的项目\n",
    "k = {\"name\":\"weiwei\", \"home\":\"guilin\"}\n",
    "k[\"like\"] = \"music\"  # 直接通过 集合名词[key]=value 添加\n",
    "k['name'] = 'guangzhou'\n",
    "print (k)\n",
    "# 判断key是否存在\n",
    "#要避免key不存在的错误，有两种办法，一是通过in判断key是否存在：\n",
    "print ('name' in k)\n",
    "#通过dict提供的get方法，如果key不存在，可以返回None，或者自己指定的value：\n",
    "print (k.get('name'))\n",
    "# 删除key-value元素\n",
    "k.pop('like')\n",
    "print (k)"
   ]
  },
  {
   "cell_type": "markdown",
   "metadata": {},
   "source": [
    "## 列表、元组、集合、字典的互相转换"
   ]
  },
  {
   "cell_type": "code",
   "execution_count": 18,
   "metadata": {},
   "outputs": [
    {
     "data": {
      "text/plain": [
       "('ming', 'hua', 'li', 'juan', 'yun', 'hua')"
      ]
     },
     "execution_count": 18,
     "metadata": {},
     "output_type": "execute_result"
    }
   ],
   "source": [
    "students = [\"ming\", \"hua\", \"li\", \"juan\", \"yun\", \"hua\"]\n",
    "tuple(students)"
   ]
  },
  {
   "cell_type": "code",
   "execution_count": 19,
   "metadata": {},
   "outputs": [
    {
     "data": {
      "text/plain": [
       "['name', 'home']"
      ]
     },
     "execution_count": 19,
     "metadata": {},
     "output_type": "execute_result"
    }
   ],
   "source": [
    "#直接使用list，是将字典中的key转换为列表\n",
    "k = {\"name\":\"weiwei\", \"home\":\"guilin\"}\n",
    "list(k)"
   ]
  },
  {
   "cell_type": "code",
   "execution_count": 16,
   "metadata": {},
   "outputs": [
    {
     "name": "stdout",
     "output_type": "stream",
     "text": [
      "字典中的key转换为列表： ['name', 'home']\n",
      "字典中的value转换为列表： ['weiwei', 'guilin']\n",
      "<zip object at 0x000001C8878B7F08>\n",
      "{'A': 1, 'B': 2, 'C': 3}\n"
     ]
    }
   ],
   "source": [
    "\n",
    "#字典中的key转换为列表\n",
    "key_value = list(k.keys())\n",
    "print('字典中的key转换为列表：', key_value) \n",
    "#字典中的value转换为列表\n",
    "value_list = list(k.values())\n",
    "print('字典中的value转换为列表：', value_list)\n",
    "\n",
    "# zip可以将列表、元组、集合、字典‘缝合’起来\n",
    "zl = zip(('A', 'B', 'C'), [1, 2, 3, 4]) \n",
    "print (zl)\n",
    "print (dict(zl))"
   ]
  },
  {
   "cell_type": "code",
   "execution_count": null,
   "metadata": {},
   "outputs": [],
   "source": []
  }
 ],
 "metadata": {
  "kernelspec": {
   "display_name": "Python 3",
   "language": "python",
   "name": "python3"
  },
  "language_info": {
   "codemirror_mode": {
    "name": "ipython",
    "version": 3
   },
   "file_extension": ".py",
   "mimetype": "text/x-python",
   "name": "python",
   "nbconvert_exporter": "python",
   "pygments_lexer": "ipython3",
   "version": "3.6.5"
  },
  "toc": {
   "base_numbering": 1,
   "nav_menu": {},
   "number_sections": true,
   "sideBar": true,
   "skip_h1_title": false,
   "title_cell": "Table of Contents",
   "title_sidebar": "Contents",
   "toc_cell": false,
   "toc_position": {},
   "toc_section_display": true,
   "toc_window_display": true
  }
 },
 "nbformat": 4,
 "nbformat_minor": 2
}
